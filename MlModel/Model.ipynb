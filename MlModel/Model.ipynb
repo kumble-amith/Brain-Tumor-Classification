{
 "cells": [
  {
   "cell_type": "code",
   "execution_count": 1,
   "metadata": {},
   "outputs": [],
   "source": [
    "# import zipfile"
   ]
  },
  {
   "cell_type": "code",
   "execution_count": 2,
   "metadata": {},
   "outputs": [],
   "source": [
    "# ref = zipfile.ZipFile('archive.zip')\n",
    "# ref.extractall(os.path.join('data'))\n",
    "# ref.close()"
   ]
  },
  {
   "cell_type": "code",
   "execution_count": 3,
   "metadata": {},
   "outputs": [
    {
     "name": "stdout",
     "output_type": "stream",
     "text": [
      "WARNING:tensorflow:From c:\\Python\\Lib\\site-packages\\keras\\src\\losses.py:2976: The name tf.losses.sparse_softmax_cross_entropy is deprecated. Please use tf.compat.v1.losses.sparse_softmax_cross_entropy instead.\n",
      "\n"
     ]
    }
   ],
   "source": [
    "from tensorflow import keras"
   ]
  },
  {
   "cell_type": "code",
   "execution_count": 4,
   "metadata": {},
   "outputs": [
    {
     "name": "stdout",
     "output_type": "stream",
     "text": [
      "Found 2592 files belonging to 2 classes.\n"
     ]
    }
   ],
   "source": [
    "train = keras.utils.image_dataset_from_directory(\n",
    "    directory='Ignored/Data_PROCESSED/Train',\n",
    "    label_mode='int',\n",
    "    batch_size=32,\n",
    "    image_size=(256 ,256),\n",
    "    labels='inferred'\n",
    ")"
   ]
  },
  {
   "cell_type": "code",
   "execution_count": 5,
   "metadata": {},
   "outputs": [
    {
     "name": "stdout",
     "output_type": "stream",
     "text": [
      "Found 264 files belonging to 2 classes.\n"
     ]
    }
   ],
   "source": [
    "test = keras.utils.image_dataset_from_directory(\n",
    "    directory='Ignored/Data_PROCESSED/Test',\n",
    "    label_mode='int',\n",
    "    batch_size=32,\n",
    "    image_size=(256 ,256),\n",
    "    labels='inferred'\n",
    ")"
   ]
  },
  {
   "cell_type": "code",
   "execution_count": 6,
   "metadata": {},
   "outputs": [
    {
     "name": "stdout",
     "output_type": "stream",
     "text": [
      "Found 144 files belonging to 2 classes.\n"
     ]
    }
   ],
   "source": [
    "val = keras.utils.image_dataset_from_directory(\n",
    "    directory='Ignored/Data_PROCESSED/Validation',\n",
    "    label_mode='int',\n",
    "    batch_size=32,\n",
    "    image_size=(256 ,256),\n",
    "    labels='inferred'\n",
    ")"
   ]
  },
  {
   "cell_type": "code",
   "execution_count": 7,
   "metadata": {},
   "outputs": [],
   "source": [
    "import tensorflow as tf"
   ]
  },
  {
   "cell_type": "code",
   "execution_count": 8,
   "metadata": {},
   "outputs": [],
   "source": [
    "from keras import Sequential\n",
    "from keras.layers import Dense , Conv2D , Flatten  , BatchNormalization , MaxPool2D"
   ]
  },
  {
   "cell_type": "code",
   "execution_count": 9,
   "metadata": {},
   "outputs": [
    {
     "name": "stdout",
     "output_type": "stream",
     "text": [
      "WARNING:tensorflow:From c:\\Python\\Lib\\site-packages\\keras\\src\\backend.py:873: The name tf.get_default_graph is deprecated. Please use tf.compat.v1.get_default_graph instead.\n",
      "\n",
      "WARNING:tensorflow:From c:\\Python\\Lib\\site-packages\\keras\\src\\layers\\pooling\\max_pooling2d.py:161: The name tf.nn.max_pool is deprecated. Please use tf.nn.max_pool2d instead.\n",
      "\n"
     ]
    }
   ],
   "source": [
    "model = Sequential()\n",
    "\n",
    "model.add(Conv2D(64 , kernel_size= (3,3) , strides=(2,2) , padding='same' , input_shape = (256,256,3) , activation='relu'))\n",
    "model.add(MaxPool2D(pool_size=(2,2) , strides= (2,2) , padding='same'))\n",
    "model.add(BatchNormalization())\n",
    "\n",
    "model.add(Conv2D(128 , kernel_size= (3,3) , strides=(2,2) , padding='same' , activation='relu'))\n",
    "model.add(MaxPool2D(pool_size=(2,2) , strides= (2,2) , padding='same'))\n",
    "model.add(BatchNormalization())\n",
    "\n",
    "model.add(Conv2D(256 , kernel_size= (3,3) , strides=(2,2) , padding='same' , activation='relu'))\n",
    "model.add(MaxPool2D(pool_size=(2,2) , strides= (2,2) , padding='same'))\n",
    "model.add(BatchNormalization())\n",
    "\n",
    "\n",
    "model.add(Conv2D(512 , kernel_size= (3,3) , strides=(2,2) , padding='same' , activation='relu'))\n",
    "model.add(MaxPool2D(pool_size=(2,2) , strides= (2,2) , padding='same'))\n",
    "model.add(BatchNormalization())\n",
    "\n",
    "model.add(Flatten())\n",
    "\n",
    "model.add(Dense(512 , activation='relu' , kernel_initializer='he_uniform'))\n",
    "model.add(Dense(256 , activation='relu' , kernel_initializer='he_uniform'))\n",
    "model.add(Dense(128 , activation='relu' , kernel_initializer='he_uniform'))\n",
    "model.add(Dense(64 , activation='relu' , kernel_initializer='he_uniform'))\n",
    "\n",
    "\n",
    "model.add(Dense(1 , activation='sigmoid' , kernel_initializer='he_uniform'))\n"
   ]
  },
  {
   "cell_type": "code",
   "execution_count": 10,
   "metadata": {},
   "outputs": [
    {
     "name": "stdout",
     "output_type": "stream",
     "text": [
      "Model: \"sequential\"\n",
      "_________________________________________________________________\n",
      " Layer (type)                Output Shape              Param #   \n",
      "=================================================================\n",
      " conv2d (Conv2D)             (None, 128, 128, 64)      1792      \n",
      "                                                                 \n",
      " max_pooling2d (MaxPooling2  (None, 64, 64, 64)        0         \n",
      " D)                                                              \n",
      "                                                                 \n",
      " batch_normalization (Batch  (None, 64, 64, 64)        256       \n",
      " Normalization)                                                  \n",
      "                                                                 \n",
      " conv2d_1 (Conv2D)           (None, 32, 32, 128)       73856     \n",
      "                                                                 \n",
      " max_pooling2d_1 (MaxPoolin  (None, 16, 16, 128)       0         \n",
      " g2D)                                                            \n",
      "                                                                 \n",
      " batch_normalization_1 (Bat  (None, 16, 16, 128)       512       \n",
      " chNormalization)                                                \n",
      "                                                                 \n",
      " conv2d_2 (Conv2D)           (None, 8, 8, 256)         295168    \n",
      "                                                                 \n",
      " max_pooling2d_2 (MaxPoolin  (None, 4, 4, 256)         0         \n",
      " g2D)                                                            \n",
      "                                                                 \n",
      " batch_normalization_2 (Bat  (None, 4, 4, 256)         1024      \n",
      " chNormalization)                                                \n",
      "                                                                 \n",
      " conv2d_3 (Conv2D)           (None, 2, 2, 512)         1180160   \n",
      "                                                                 \n",
      " max_pooling2d_3 (MaxPoolin  (None, 1, 1, 512)         0         \n",
      " g2D)                                                            \n",
      "                                                                 \n",
      " batch_normalization_3 (Bat  (None, 1, 1, 512)         2048      \n",
      " chNormalization)                                                \n",
      "                                                                 \n",
      " flatten (Flatten)           (None, 512)               0         \n",
      "                                                                 \n",
      " dense (Dense)               (None, 512)               262656    \n",
      "                                                                 \n",
      " dense_1 (Dense)             (None, 256)               131328    \n",
      "                                                                 \n",
      " dense_2 (Dense)             (None, 128)               32896     \n",
      "                                                                 \n",
      " dense_3 (Dense)             (None, 64)                8256      \n",
      "                                                                 \n",
      " dense_4 (Dense)             (None, 1)                 65        \n",
      "                                                                 \n",
      "=================================================================\n",
      "Total params: 1990017 (7.59 MB)\n",
      "Trainable params: 1988097 (7.58 MB)\n",
      "Non-trainable params: 1920 (7.50 KB)\n",
      "_________________________________________________________________\n"
     ]
    }
   ],
   "source": [
    "model.summary()"
   ]
  },
  {
   "cell_type": "code",
   "execution_count": 11,
   "metadata": {},
   "outputs": [
    {
     "name": "stdout",
     "output_type": "stream",
     "text": [
      "WARNING:tensorflow:From c:\\Python\\Lib\\site-packages\\keras\\src\\optimizers\\__init__.py:309: The name tf.train.Optimizer is deprecated. Please use tf.compat.v1.train.Optimizer instead.\n",
      "\n"
     ]
    }
   ],
   "source": [
    "model.compile(optimizer='adam' , loss=tf.losses.binary_crossentropy , metrics=['accuracy'])"
   ]
  },
  {
   "cell_type": "code",
   "execution_count": 12,
   "metadata": {},
   "outputs": [
    {
     "name": "stdout",
     "output_type": "stream",
     "text": [
      "Epoch 1/10\n",
      "WARNING:tensorflow:From c:\\Python\\Lib\\site-packages\\keras\\src\\utils\\tf_utils.py:492: The name tf.ragged.RaggedTensorValue is deprecated. Please use tf.compat.v1.ragged.RaggedTensorValue instead.\n",
      "\n",
      "WARNING:tensorflow:From c:\\Python\\Lib\\site-packages\\keras\\src\\engine\\base_layer_utils.py:384: The name tf.executing_eagerly_outside_functions is deprecated. Please use tf.compat.v1.executing_eagerly_outside_functions instead.\n",
      "\n",
      "81/81 [==============================] - 12s 129ms/step - loss: 0.4607 - accuracy: 0.8005 - val_loss: 1.0959 - val_accuracy: 0.7538\n",
      "Epoch 2/10\n",
      "81/81 [==============================] - 9s 113ms/step - loss: 0.2288 - accuracy: 0.9047 - val_loss: 0.3249 - val_accuracy: 0.8712\n",
      "Epoch 3/10\n",
      "81/81 [==============================] - 9s 110ms/step - loss: 0.1562 - accuracy: 0.9417 - val_loss: 0.2722 - val_accuracy: 0.9053\n",
      "Epoch 4/10\n",
      "81/81 [==============================] - 9s 111ms/step - loss: 0.1051 - accuracy: 0.9622 - val_loss: 0.2677 - val_accuracy: 0.9091\n",
      "Epoch 5/10\n",
      "81/81 [==============================] - 9s 112ms/step - loss: 0.0643 - accuracy: 0.9749 - val_loss: 0.7303 - val_accuracy: 0.8220\n",
      "Epoch 6/10\n",
      "81/81 [==============================] - 10s 119ms/step - loss: 0.0781 - accuracy: 0.9745 - val_loss: 0.1388 - val_accuracy: 0.9394\n",
      "Epoch 7/10\n",
      "81/81 [==============================] - 10s 123ms/step - loss: 0.0511 - accuracy: 0.9819 - val_loss: 0.2465 - val_accuracy: 0.9356\n",
      "Epoch 8/10\n",
      "81/81 [==============================] - 10s 118ms/step - loss: 0.0230 - accuracy: 0.9950 - val_loss: 0.1538 - val_accuracy: 0.9621\n",
      "Epoch 9/10\n",
      "81/81 [==============================] - 10s 121ms/step - loss: 0.0418 - accuracy: 0.9853 - val_loss: 0.3859 - val_accuracy: 0.8826\n",
      "Epoch 10/10\n",
      "81/81 [==============================] - 10s 122ms/step - loss: 0.0221 - accuracy: 0.9927 - val_loss: 0.4202 - val_accuracy: 0.9091\n"
     ]
    }
   ],
   "source": [
    "history = model.fit(train,validation_data=test , epochs= 10)"
   ]
  },
  {
   "cell_type": "code",
   "execution_count": 13,
   "metadata": {},
   "outputs": [
    {
     "name": "stdout",
     "output_type": "stream",
     "text": [
      "INFO:tensorflow:Assets written to: Trained_model\\assets\n"
     ]
    },
    {
     "name": "stderr",
     "output_type": "stream",
     "text": [
      "INFO:tensorflow:Assets written to: Trained_model\\assets\n"
     ]
    }
   ],
   "source": [
    "model.save('Trained_model')"
   ]
  },
  {
   "cell_type": "code",
   "execution_count": 14,
   "metadata": {},
   "outputs": [],
   "source": [
    "import matplotlib.pyplot as plt"
   ]
  },
  {
   "cell_type": "code",
   "execution_count": 15,
   "metadata": {},
   "outputs": [
    {
     "data": {
      "image/png": "[encoded data removed]",
      "text/plain": [
       "<Figure size 640x480 with 1 Axes>"
      ]
     },
     "metadata": {},
     "output_type": "display_data"
    }
   ],
   "source": [
    "plt.plot(history.history['accuracy'] , color = 'red' , label = 'train')\n",
    "plt.plot(history.history['val_accuracy'] , color = 'blue' , label = 'validation')\n",
    "plt.legend()\n",
    "plt.show()"
   ]
  },
  {
   "cell_type": "code",
   "execution_count": null,
   "metadata": {},
   "outputs": [],
   "source": []
  },
  {
   "cell_type": "code",
   "execution_count": null,
   "metadata": {},
   "outputs": [],
   "source": []
  }
 ],
 "metadata": {
  "kernelspec": {
   "display_name": "Python 3",
   "language": "python",
   "name": "python3"
  },
  "language_info": {
   "codemirror_mode": {
    "name": "ipython",
    "version": 3
   },
   "file_extension": ".py",
   "mimetype": "text/x-python",
   "name": "python",
   "nbconvert_exporter": "python",
   "pygments_lexer": "ipython3",
   "version": "3.11.3"
  }
 },
 "nbformat": 4,
 "nbformat_minor": 2
}
