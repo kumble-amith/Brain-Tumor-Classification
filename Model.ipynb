{
 "cells": [
  {
   "cell_type": "code",
   "execution_count": 7,
   "metadata": {},
   "outputs": [],
   "source": [
    "# ref = zipfile.ZipFile('archive.zip')\n",
    "# ref.extractall(os.path.join('data'))\n",
    "# ref.close()"
   ]
  },
  {
   "cell_type": "code",
   "execution_count": 1,
   "metadata": {},
   "outputs": [],
   "source": [
    "from tensorflow import keras"
   ]
  },
  {
   "cell_type": "code",
   "execution_count": 9,
   "metadata": {},
   "outputs": [
    {
     "name": "stdout",
     "output_type": "stream",
     "text": [
      "Found 2592 files belonging to 2 classes.\n"
     ]
    }
   ],
   "source": [
    "train = keras.utils.image_dataset_from_directory(\n",
    "    directory='Ignored/Data_PROCESSED/Train',\n",
    "    label_mode='int',\n",
    "    batch_size=32,\n",
    "    image_size=(256 ,256),\n",
    "    labels='inferred'\n",
    ")"
   ]
  },
  {
   "cell_type": "code",
   "execution_count": 10,
   "metadata": {},
   "outputs": [
    {
     "name": "stdout",
     "output_type": "stream",
     "text": [
      "Found 264 files belonging to 2 classes.\n"
     ]
    }
   ],
   "source": [
    "test = keras.utils.image_dataset_from_directory(\n",
    "    directory='Ignored/Data_PROCESSED/Test',\n",
    "    label_mode='int',\n",
    "    batch_size=32,\n",
    "    image_size=(256 ,256),\n",
    "    labels='inferred'\n",
    ")"
   ]
  },
  {
   "cell_type": "code",
   "execution_count": 11,
   "metadata": {},
   "outputs": [
    {
     "name": "stdout",
     "output_type": "stream",
     "text": [
      "Found 144 files belonging to 2 classes.\n"
     ]
    }
   ],
   "source": [
    "val = keras.utils.image_dataset_from_directory(\n",
    "    directory='Ignored/Data_PROCESSED/Validation',\n",
    "    label_mode='int',\n",
    "    batch_size=32,\n",
    "    image_size=(256 ,256),\n",
    "    labels='inferred'\n",
    ")"
   ]
  },
  {
   "cell_type": "code",
   "execution_count": 12,
   "metadata": {},
   "outputs": [],
   "source": [
    "import tensorflow as tf"
   ]
  },
  {
   "cell_type": "code",
   "execution_count": 13,
   "metadata": {},
   "outputs": [],
   "source": [
    "from keras import Sequential\n",
    "from keras.layers import Dense , Conv2D , Flatten  , BatchNormalization , MaxPool2D"
   ]
  },
  {
   "cell_type": "code",
   "execution_count": 14,
   "metadata": {},
   "outputs": [],
   "source": [
    "model = Sequential()\n",
    "\n",
    "model.add(Conv2D(64 , kernel_size= (3,3) , strides=(2,2) , padding='same' , input_shape = (256,256,3) , activation='relu'))\n",
    "model.add(MaxPool2D(pool_size=(2,2) , strides= (2,2) , padding='same'))\n",
    "model.add(BatchNormalization())\n",
    "\n",
    "model.add(Conv2D(128 , kernel_size= (3,3) , strides=(2,2) , padding='same' , activation='relu'))\n",
    "model.add(MaxPool2D(pool_size=(2,2) , strides= (2,2) , padding='same'))\n",
    "model.add(BatchNormalization())\n",
    "\n",
    "model.add(Conv2D(256 , kernel_size= (3,3) , strides=(2,2) , padding='same' , activation='relu'))\n",
    "model.add(MaxPool2D(pool_size=(2,2) , strides= (2,2) , padding='same'))\n",
    "model.add(BatchNormalization())\n",
    "\n",
    "\n",
    "model.add(Conv2D(512 , kernel_size= (3,3) , strides=(2,2) , padding='same' , activation='relu'))\n",
    "model.add(MaxPool2D(pool_size=(2,2) , strides= (2,2) , padding='same'))\n",
    "model.add(BatchNormalization())\n",
    "\n",
    "model.add(Flatten())\n",
    "\n",
    "model.add(Dense(512 , activation='relu' , kernel_initializer='he_uniform'))\n",
    "model.add(Dense(256 , activation='relu' , kernel_initializer='he_uniform'))\n",
    "model.add(Dense(128 , activation='relu' , kernel_initializer='he_uniform'))\n",
    "model.add(Dense(64 , activation='relu' , kernel_initializer='he_uniform'))\n",
    "\n",
    "\n",
    "model.add(Dense(1 , activation='sigmoid' , kernel_initializer='he_uniform'))\n"
   ]
  },
  {
   "cell_type": "code",
   "execution_count": 15,
   "metadata": {},
   "outputs": [
    {
     "name": "stdout",
     "output_type": "stream",
     "text": [
      "Model: \"sequential\"\n",
      "_________________________________________________________________\n",
      " Layer (type)                Output Shape              Param #   \n",
      "=================================================================\n",
      " conv2d (Conv2D)             (None, 128, 128, 64)      1792      \n",
      "                                                                 \n",
      " max_pooling2d (MaxPooling2  (None, 64, 64, 64)        0         \n",
      " D)                                                              \n",
      "                                                                 \n",
      " batch_normalization (Batch  (None, 64, 64, 64)        256       \n",
      " Normalization)                                                  \n",
      "                                                                 \n",
      " conv2d_1 (Conv2D)           (None, 32, 32, 128)       73856     \n",
      "                                                                 \n",
      " max_pooling2d_1 (MaxPoolin  (None, 16, 16, 128)       0         \n",
      " g2D)                                                            \n",
      "                                                                 \n",
      " batch_normalization_1 (Bat  (None, 16, 16, 128)       512       \n",
      " chNormalization)                                                \n",
      "                                                                 \n",
      " conv2d_2 (Conv2D)           (None, 8, 8, 256)         295168    \n",
      "                                                                 \n",
      " max_pooling2d_2 (MaxPoolin  (None, 4, 4, 256)         0         \n",
      " g2D)                                                            \n",
      "                                                                 \n",
      " batch_normalization_2 (Bat  (None, 4, 4, 256)         1024      \n",
      " chNormalization)                                                \n",
      "                                                                 \n",
      " conv2d_3 (Conv2D)           (None, 2, 2, 512)         1180160   \n",
      "                                                                 \n",
      " max_pooling2d_3 (MaxPoolin  (None, 1, 1, 512)         0         \n",
      " g2D)                                                            \n",
      "                                                                 \n",
      " batch_normalization_3 (Bat  (None, 1, 1, 512)         2048      \n",
      " chNormalization)                                                \n",
      "                                                                 \n",
      " flatten (Flatten)           (None, 512)               0         \n",
      "                                                                 \n",
      " dense (Dense)               (None, 512)               262656    \n",
      "                                                                 \n",
      " dense_1 (Dense)             (None, 256)               131328    \n",
      "                                                                 \n",
      " dense_2 (Dense)             (None, 128)               32896     \n",
      "                                                                 \n",
      " dense_3 (Dense)             (None, 64)                8256      \n",
      "                                                                 \n",
      " dense_4 (Dense)             (None, 1)                 65        \n",
      "                                                                 \n",
      "=================================================================\n",
      "Total params: 1990017 (7.59 MB)\n",
      "Trainable params: 1988097 (7.58 MB)\n",
      "Non-trainable params: 1920 (7.50 KB)\n",
      "_________________________________________________________________\n"
     ]
    }
   ],
   "source": [
    "model.summary()"
   ]
  },
  {
   "cell_type": "code",
   "execution_count": 16,
   "metadata": {},
   "outputs": [],
   "source": [
    "model.compile(optimizer='adam' , loss=tf.losses.binary_crossentropy , metrics=['accuracy'])"
   ]
  },
  {
   "cell_type": "code",
   "execution_count": 17,
   "metadata": {},
   "outputs": [
    {
     "name": "stdout",
     "output_type": "stream",
     "text": [
      "Epoch 1/10\n"
     ]
    },
    {
     "name": "stdout",
     "output_type": "stream",
     "text": [
      "81/81 [==============================] - 34s 399ms/step - loss: 0.4569 - accuracy: 0.7944 - val_loss: 5.1070 - val_accuracy: 0.5038\n",
      "Epoch 2/10\n",
      "81/81 [==============================] - 34s 418ms/step - loss: 0.2581 - accuracy: 0.8962 - val_loss: 0.3330 - val_accuracy: 0.8485\n",
      "Epoch 3/10\n",
      "81/81 [==============================] - 34s 416ms/step - loss: 0.1553 - accuracy: 0.9425 - val_loss: 0.6722 - val_accuracy: 0.8258\n",
      "Epoch 4/10\n",
      "81/81 [==============================] - 34s 412ms/step - loss: 0.0901 - accuracy: 0.9680 - val_loss: 0.4373 - val_accuracy: 0.8523\n",
      "Epoch 5/10\n",
      "81/81 [==============================] - 33s 409ms/step - loss: 0.0895 - accuracy: 0.9699 - val_loss: 1.5526 - val_accuracy: 0.7727\n",
      "Epoch 6/10\n",
      "81/81 [==============================] - 33s 405ms/step - loss: 0.0788 - accuracy: 0.9742 - val_loss: 0.5233 - val_accuracy: 0.8333\n",
      "Epoch 7/10\n",
      "81/81 [==============================] - 33s 402ms/step - loss: 0.0634 - accuracy: 0.9757 - val_loss: 0.2981 - val_accuracy: 0.9053\n",
      "Epoch 8/10\n",
      "81/81 [==============================] - 32s 389ms/step - loss: 0.0399 - accuracy: 0.9853 - val_loss: 0.5265 - val_accuracy: 0.8977\n",
      "Epoch 9/10\n",
      "81/81 [==============================] - 34s 422ms/step - loss: 0.0324 - accuracy: 0.9900 - val_loss: 0.1210 - val_accuracy: 0.9545\n",
      "Epoch 10/10\n",
      "81/81 [==============================] - 36s 442ms/step - loss: 0.0100 - accuracy: 0.9961 - val_loss: 0.0668 - val_accuracy: 0.9773\n"
     ]
    },
    {
     "data": {
      "text/plain": [
       "<keras.src.callbacks.History at 0x1ffb2351550>"
      ]
     },
     "execution_count": 17,
     "metadata": {},
     "output_type": "execute_result"
    }
   ],
   "source": [
    "model.fit(train,validation_data=test , epochs= 10)"
   ]
  },
  {
   "cell_type": "code",
   "execution_count": 18,
   "metadata": {},
   "outputs": [
    {
     "name": "stdout",
     "output_type": "stream",
     "text": [
      "5/5 [==============================] - 1s 83ms/step\n"
     ]
    },
    {
     "data": {
      "text/plain": [
       "array([[9.9935067e-01],\n",
       "       [9.9940389e-01],\n",
       "       [1.5221565e-06],\n",
       "       [1.0000000e+00],\n",
       "       [7.4765957e-08],\n",
       "       [2.0747028e-05],\n",
       "       [1.5964993e-08],\n",
       "       [2.6831939e-10],\n",
       "       [1.0000000e+00],\n",
       "       [4.5370552e-01],\n",
       "       [1.0000000e+00],\n",
       "       [2.3525638e-05],\n",
       "       [5.0215644e-06],\n",
       "       [9.9960214e-01],\n",
       "       [9.9999821e-01],\n",
       "       [1.0000000e+00],\n",
       "       [4.7561041e-08],\n",
       "       [9.9999982e-01],\n",
       "       [9.9997509e-01],\n",
       "       [1.0000000e+00],\n",
       "       [1.0000000e+00],\n",
       "       [9.9999994e-01],\n",
       "       [9.9999923e-01],\n",
       "       [9.9748266e-01],\n",
       "       [5.1130672e-05],\n",
       "       [9.3156935e-08],\n",
       "       [9.3867851e-07],\n",
       "       [1.9163510e-06],\n",
       "       [3.5559607e-04],\n",
       "       [1.3580356e-03],\n",
       "       [1.7028855e-04],\n",
       "       [9.9989027e-01],\n",
       "       [1.5522543e-03],\n",
       "       [9.5255764e-06],\n",
       "       [1.2063910e-05],\n",
       "       [9.8091364e-01],\n",
       "       [7.1625078e-07],\n",
       "       [1.0000000e+00],\n",
       "       [5.6346602e-07],\n",
       "       [4.1350155e-04],\n",
       "       [1.0000000e+00],\n",
       "       [4.4286725e-04],\n",
       "       [7.7402794e-01],\n",
       "       [9.9991000e-01],\n",
       "       [6.5992342e-04],\n",
       "       [5.6272763e-04],\n",
       "       [1.0000000e+00],\n",
       "       [9.9999893e-01],\n",
       "       [1.0000000e+00],\n",
       "       [4.1843969e-03],\n",
       "       [1.0000000e+00],\n",
       "       [9.9999851e-01],\n",
       "       [1.6699907e-04],\n",
       "       [9.9882239e-01],\n",
       "       [9.7011971e-01],\n",
       "       [5.1305739e-07],\n",
       "       [9.9963421e-01],\n",
       "       [9.9999946e-01],\n",
       "       [2.3959713e-02],\n",
       "       [1.0747811e-11],\n",
       "       [1.1555504e-08],\n",
       "       [2.3723560e-05],\n",
       "       [9.9978375e-01],\n",
       "       [2.0292731e-08],\n",
       "       [9.9999964e-01],\n",
       "       [3.0853312e-06],\n",
       "       [9.9999696e-01],\n",
       "       [9.5001239e-01],\n",
       "       [3.0365851e-05],\n",
       "       [1.5878277e-05],\n",
       "       [2.1676262e-06],\n",
       "       [1.0183312e-06],\n",
       "       [9.9999934e-01],\n",
       "       [9.9999988e-01],\n",
       "       [1.0000000e+00],\n",
       "       [2.2543640e-05],\n",
       "       [5.0722221e-08],\n",
       "       [9.9999386e-01],\n",
       "       [4.6302665e-07],\n",
       "       [9.9999875e-01],\n",
       "       [5.5248088e-06],\n",
       "       [9.9991977e-01],\n",
       "       [5.5001827e-05],\n",
       "       [9.9999213e-01],\n",
       "       [1.8395793e-08],\n",
       "       [1.0000000e+00],\n",
       "       [9.9860400e-01],\n",
       "       [6.2715168e-05],\n",
       "       [9.9991238e-01],\n",
       "       [9.9996340e-01],\n",
       "       [1.3968153e-05],\n",
       "       [1.4927496e-06],\n",
       "       [1.0000000e+00],\n",
       "       [1.6058421e-07],\n",
       "       [4.2178672e-06],\n",
       "       [9.9999094e-01],\n",
       "       [9.2838764e-06],\n",
       "       [1.0000000e+00],\n",
       "       [9.9999171e-01],\n",
       "       [9.9997604e-01],\n",
       "       [9.9994290e-01],\n",
       "       [1.4433468e-05],\n",
       "       [1.0000000e+00],\n",
       "       [2.0585303e-05],\n",
       "       [9.9999785e-01],\n",
       "       [9.9992657e-01],\n",
       "       [1.0000000e+00],\n",
       "       [1.5290971e-04],\n",
       "       [1.0696964e-06],\n",
       "       [1.2274363e-07],\n",
       "       [9.9999940e-01],\n",
       "       [9.9048072e-01],\n",
       "       [8.1858946e-09],\n",
       "       [4.6888381e-08],\n",
       "       [9.9999338e-01],\n",
       "       [9.9999666e-01],\n",
       "       [1.3288833e-03],\n",
       "       [2.3928347e-05],\n",
       "       [9.9999994e-01],\n",
       "       [9.2829812e-01],\n",
       "       [2.9272318e-05],\n",
       "       [8.6968739e-06],\n",
       "       [1.0000000e+00],\n",
       "       [1.0000000e+00],\n",
       "       [6.0081746e-08],\n",
       "       [4.8400725e-05],\n",
       "       [3.8872483e-09],\n",
       "       [9.9999833e-01],\n",
       "       [1.0000000e+00],\n",
       "       [1.1269711e-03],\n",
       "       [4.8022133e-01],\n",
       "       [7.9057882e-10],\n",
       "       [5.0776835e-05],\n",
       "       [9.8402122e-09],\n",
       "       [9.9999905e-01],\n",
       "       [9.9991584e-01],\n",
       "       [1.6989464e-06],\n",
       "       [9.9999970e-01],\n",
       "       [1.3149133e-06],\n",
       "       [9.9835688e-01],\n",
       "       [5.7026347e-05],\n",
       "       [9.9996710e-01],\n",
       "       [2.7961639e-04],\n",
       "       [8.3715004e-06]], dtype=float32)"
      ]
     },
     "execution_count": 18,
     "metadata": {},
     "output_type": "execute_result"
    }
   ],
   "source": [
    "model.predict(val)"
   ]
  },
  {
   "cell_type": "code",
   "execution_count": 19,
   "metadata": {},
   "outputs": [
    {
     "data": {
      "text/plain": [
       "<_BatchDataset element_spec=(TensorSpec(shape=(None, 256, 256, 3), dtype=tf.float32, name=None), TensorSpec(shape=(None,), dtype=tf.int32, name=None))>"
      ]
     },
     "execution_count": 19,
     "metadata": {},
     "output_type": "execute_result"
    }
   ],
   "source": [
    "val"
   ]
  },
  {
   "cell_type": "code",
   "execution_count": 2,
   "metadata": {},
   "outputs": [],
   "source": [
    "import cv2 as cv"
   ]
  },
  {
   "cell_type": "code",
   "execution_count": 5,
   "metadata": {},
   "outputs": [
    {
     "name": "stdout",
     "output_type": "stream",
     "text": [
      "1/1 [==============================] - 0s 170ms/step\n"
     ]
    },
    {
     "data": {
      "text/plain": [
       "array([[0.06462669]], dtype=float32)"
      ]
     },
     "execution_count": 5,
     "metadata": {},
     "output_type": "execute_result"
    }
   ],
   "source": [
    "image = cv.imread('Normal.jpeg')\n",
    "image = cv.resize(image , (256,256))\n",
    "image = image[None,:,:,:]\n",
    "model.predict(image)"
   ]
  },
  {
   "cell_type": "code",
   "execution_count": 22,
   "metadata": {},
   "outputs": [
    {
     "name": "stdout",
     "output_type": "stream",
     "text": [
      "INFO:tensorflow:Assets written to: Trained_model\\assets\n"
     ]
    },
    {
     "name": "stderr",
     "output_type": "stream",
     "text": [
      "INFO:tensorflow:Assets written to: Trained_model\\assets\n"
     ]
    }
   ],
   "source": [
    "model.save(os.path.join('Trained_model'))"
   ]
  },
  {
   "cell_type": "code",
   "execution_count": null,
   "metadata": {},
   "outputs": [],
   "source": [
    "print('Hello ')"
   ]
  },
  {
   "cell_type": "code",
   "execution_count": 3,
   "metadata": {},
   "outputs": [],
   "source": [
    "from keras.models import load_model"
   ]
  },
  {
   "cell_type": "code",
   "execution_count": 4,
   "metadata": {},
   "outputs": [],
   "source": [
    "model = load_model('Ignored/Trained_model')"
   ]
  },
  {
   "cell_type": "code",
   "execution_count": null,
   "metadata": {},
   "outputs": [],
   "source": []
  }
 ],
 "metadata": {
  "kernelspec": {
   "display_name": "Python 3",
   "language": "python",
   "name": "python3"
  },
  "language_info": {
   "codemirror_mode": {
    "name": "ipython",
    "version": 3
   },
   "file_extension": ".py",
   "mimetype": "text/x-python",
   "name": "python",
   "nbconvert_exporter": "python",
   "pygments_lexer": "ipython3",
   "version": "3.11.3"
  }
 },
 "nbformat": 4,
 "nbformat_minor": 2
}
